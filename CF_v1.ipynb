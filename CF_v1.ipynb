{
  "nbformat": 4,
  "nbformat_minor": 0,
  "metadata": {
    "colab": {
      "name": "CF_C.ipynb",
      "provenance": [],
      "collapsed_sections": [],
      "toc_visible": true,
      "mount_file_id": "1xWHvugZdGN6TcTHbf3rnbDdjx0Lzk2us",
      "authorship_tag": "ABX9TyOPb9RgNMKmWQQ/KwjOU0xI"
    },
    "kernelspec": {
      "name": "python3",
      "display_name": "Python 3"
    }
  },
  "cells": [
    {
      "cell_type": "code",
      "metadata": {
        "id": "UlKLMXY45bLo",
        "colab_type": "code",
        "colab": {}
      },
      "source": [
        "import pandas as pd\n",
        "import numpy as np\n",
        "import statistics as st\n",
        "import matplotlib.pyplot as plt"
      ],
      "execution_count": 0,
      "outputs": []
    },
    {
      "cell_type": "code",
      "metadata": {
        "id": "UU0HU-0A5m8r",
        "colab_type": "code",
        "outputId": "e271d186-4acd-4fd8-ce80-f05af8e0cbef",
        "colab": {
          "base_uri": "https://localhost:8080/",
          "height": 35
        }
      },
      "source": [
        "cd \"/content/drive/My Drive/Colab Notebooks/CF_C\""
      ],
      "execution_count": 2,
      "outputs": [
        {
          "output_type": "stream",
          "text": [
            "/content/drive/My Drive/Colab Notebooks/CF_C\n"
          ],
          "name": "stdout"
        }
      ]
    },
    {
      "cell_type": "markdown",
      "metadata": {
        "id": "hPA96BcIUYZ1",
        "colab_type": "text"
      },
      "source": [
        "**Part #2 - Revenue per device analysis (Excel)**"
      ]
    },
    {
      "cell_type": "code",
      "metadata": {
        "id": "Cxz7Z9Sa6NQ6",
        "colab_type": "code",
        "outputId": "085f18fe-073c-44a4-febd-41447944af0a",
        "colab": {
          "base_uri": "https://localhost:8080/",
          "height": 206
        }
      },
      "source": [
        "#Importing data\n",
        "df_task1 = pd.read_csv('task1.csv', parse_dates=['device_install_date'])\n",
        "df_task1.head()"
      ],
      "execution_count": 25,
      "outputs": [
        {
          "output_type": "execute_result",
          "data": {
            "text/html": [
              "<div>\n",
              "<style scoped>\n",
              "    .dataframe tbody tr th:only-of-type {\n",
              "        vertical-align: middle;\n",
              "    }\n",
              "\n",
              "    .dataframe tbody tr th {\n",
              "        vertical-align: top;\n",
              "    }\n",
              "\n",
              "    .dataframe thead th {\n",
              "        text-align: right;\n",
              "    }\n",
              "</style>\n",
              "<table border=\"1\" class=\"dataframe\">\n",
              "  <thead>\n",
              "    <tr style=\"text-align: right;\">\n",
              "      <th></th>\n",
              "      <th>device_id</th>\n",
              "      <th>device_install_date</th>\n",
              "      <th>country</th>\n",
              "      <th>total_revenue</th>\n",
              "    </tr>\n",
              "  </thead>\n",
              "  <tbody>\n",
              "    <tr>\n",
              "      <th>0</th>\n",
              "      <td>FD80F264-5F61-4244-A9C7-5657E38A45A8</td>\n",
              "      <td>2019-08-11</td>\n",
              "      <td>US</td>\n",
              "      <td>3.14</td>\n",
              "    </tr>\n",
              "    <tr>\n",
              "      <th>1</th>\n",
              "      <td>160B8148-4541-4FEE-97BB-A333EEF3EDAE</td>\n",
              "      <td>2019-08-11</td>\n",
              "      <td>US</td>\n",
              "      <td>10.05</td>\n",
              "    </tr>\n",
              "    <tr>\n",
              "      <th>2</th>\n",
              "      <td>B470E082-29D9-4FED-BC7A-83906425855C</td>\n",
              "      <td>2019-08-11</td>\n",
              "      <td>US</td>\n",
              "      <td>11.95</td>\n",
              "    </tr>\n",
              "    <tr>\n",
              "      <th>3</th>\n",
              "      <td>559E65BB-AB4A-4CB2-AB54-60B8C47FCFD8</td>\n",
              "      <td>2019-08-11</td>\n",
              "      <td>US</td>\n",
              "      <td>0.00</td>\n",
              "    </tr>\n",
              "    <tr>\n",
              "      <th>4</th>\n",
              "      <td>307C26F6-F4BD-4A5B-AF9F-5678EAA29494</td>\n",
              "      <td>2019-08-11</td>\n",
              "      <td>AU</td>\n",
              "      <td>0.00</td>\n",
              "    </tr>\n",
              "  </tbody>\n",
              "</table>\n",
              "</div>"
            ],
            "text/plain": [
              "                              device_id  ... total_revenue\n",
              "0  FD80F264-5F61-4244-A9C7-5657E38A45A8  ...          3.14\n",
              "1  160B8148-4541-4FEE-97BB-A333EEF3EDAE  ...         10.05\n",
              "2  B470E082-29D9-4FED-BC7A-83906425855C  ...         11.95\n",
              "3  559E65BB-AB4A-4CB2-AB54-60B8C47FCFD8  ...          0.00\n",
              "4  307C26F6-F4BD-4A5B-AF9F-5678EAA29494  ...          0.00\n",
              "\n",
              "[5 rows x 4 columns]"
            ]
          },
          "metadata": {
            "tags": []
          },
          "execution_count": 25
        }
      ]
    },
    {
      "cell_type": "code",
      "metadata": {
        "id": "jsezCJRaNlqx",
        "colab_type": "code",
        "outputId": "3a26b3ad-fe8f-4da5-e76f-47b6cbd59a62",
        "colab": {
          "base_uri": "https://localhost:8080/",
          "height": 363
        }
      },
      "source": [
        "#sorting by total_revenue, 10 highest values come from US\n",
        "df_task1.sort_values('total_revenue', ascending=False).head(10)"
      ],
      "execution_count": 26,
      "outputs": [
        {
          "output_type": "execute_result",
          "data": {
            "text/html": [
              "<div>\n",
              "<style scoped>\n",
              "    .dataframe tbody tr th:only-of-type {\n",
              "        vertical-align: middle;\n",
              "    }\n",
              "\n",
              "    .dataframe tbody tr th {\n",
              "        vertical-align: top;\n",
              "    }\n",
              "\n",
              "    .dataframe thead th {\n",
              "        text-align: right;\n",
              "    }\n",
              "</style>\n",
              "<table border=\"1\" class=\"dataframe\">\n",
              "  <thead>\n",
              "    <tr style=\"text-align: right;\">\n",
              "      <th></th>\n",
              "      <th>device_id</th>\n",
              "      <th>device_install_date</th>\n",
              "      <th>country</th>\n",
              "      <th>total_revenue</th>\n",
              "    </tr>\n",
              "  </thead>\n",
              "  <tbody>\n",
              "    <tr>\n",
              "      <th>27870</th>\n",
              "      <td>E5B3407C-E440-414F-A63C-C9BDDD415EAD</td>\n",
              "      <td>2019-12-12</td>\n",
              "      <td>US</td>\n",
              "      <td>453.75</td>\n",
              "    </tr>\n",
              "    <tr>\n",
              "      <th>11440</th>\n",
              "      <td>721EFF7C-85FA-493E-98C2-241D3703CACF</td>\n",
              "      <td>2019-10-13</td>\n",
              "      <td>US</td>\n",
              "      <td>178.79</td>\n",
              "    </tr>\n",
              "    <tr>\n",
              "      <th>8247</th>\n",
              "      <td>2EA532C9-F8D1-43D2-A8BD-73E939C17596</td>\n",
              "      <td>2019-09-27</td>\n",
              "      <td>US</td>\n",
              "      <td>148.10</td>\n",
              "    </tr>\n",
              "    <tr>\n",
              "      <th>27925</th>\n",
              "      <td>C0965EFD-096D-4E59-8407-7F9420158B64</td>\n",
              "      <td>2019-12-12</td>\n",
              "      <td>US</td>\n",
              "      <td>124.62</td>\n",
              "    </tr>\n",
              "    <tr>\n",
              "      <th>35010</th>\n",
              "      <td>EC4B3080-08B9-4F58-A47B-D5BE94081A93</td>\n",
              "      <td>2020-01-07</td>\n",
              "      <td>US</td>\n",
              "      <td>120.00</td>\n",
              "    </tr>\n",
              "    <tr>\n",
              "      <th>34496</th>\n",
              "      <td>2578199E-8BAE-445C-9E03-D6286A11D111</td>\n",
              "      <td>2020-01-05</td>\n",
              "      <td>US</td>\n",
              "      <td>117.72</td>\n",
              "    </tr>\n",
              "    <tr>\n",
              "      <th>7807</th>\n",
              "      <td>CECD6914-07D6-4751-AAF8-03AC5BD6490B</td>\n",
              "      <td>2019-09-24</td>\n",
              "      <td>US</td>\n",
              "      <td>106.24</td>\n",
              "    </tr>\n",
              "    <tr>\n",
              "      <th>22210</th>\n",
              "      <td>A56E4414-E371-4AF5-AE31-812DCD376F30</td>\n",
              "      <td>2019-11-29</td>\n",
              "      <td>US</td>\n",
              "      <td>96.31</td>\n",
              "    </tr>\n",
              "    <tr>\n",
              "      <th>27714</th>\n",
              "      <td>949BC1C1-5ED0-45DE-8195-C8D2949475AF</td>\n",
              "      <td>2019-12-12</td>\n",
              "      <td>US</td>\n",
              "      <td>90.66</td>\n",
              "    </tr>\n",
              "    <tr>\n",
              "      <th>19630</th>\n",
              "      <td>F8AD4945-4D55-4147-973B-27104E4E0008</td>\n",
              "      <td>2019-11-22</td>\n",
              "      <td>US</td>\n",
              "      <td>88.98</td>\n",
              "    </tr>\n",
              "  </tbody>\n",
              "</table>\n",
              "</div>"
            ],
            "text/plain": [
              "                                  device_id  ... total_revenue\n",
              "27870  E5B3407C-E440-414F-A63C-C9BDDD415EAD  ...        453.75\n",
              "11440  721EFF7C-85FA-493E-98C2-241D3703CACF  ...        178.79\n",
              "8247   2EA532C9-F8D1-43D2-A8BD-73E939C17596  ...        148.10\n",
              "27925  C0965EFD-096D-4E59-8407-7F9420158B64  ...        124.62\n",
              "35010  EC4B3080-08B9-4F58-A47B-D5BE94081A93  ...        120.00\n",
              "34496  2578199E-8BAE-445C-9E03-D6286A11D111  ...        117.72\n",
              "7807   CECD6914-07D6-4751-AAF8-03AC5BD6490B  ...        106.24\n",
              "22210  A56E4414-E371-4AF5-AE31-812DCD376F30  ...         96.31\n",
              "27714  949BC1C1-5ED0-45DE-8195-C8D2949475AF  ...         90.66\n",
              "19630  F8AD4945-4D55-4147-973B-27104E4E0008  ...         88.98\n",
              "\n",
              "[10 rows x 4 columns]"
            ]
          },
          "metadata": {
            "tags": []
          },
          "execution_count": 26
        }
      ]
    },
    {
      "cell_type": "code",
      "metadata": {
        "id": "tHFmhDRpJMaX",
        "colab_type": "code",
        "outputId": "f279135d-4f33-4ead-995a-eda5470c4221",
        "colab": {
          "base_uri": "https://localhost:8080/",
          "height": 36
        }
      },
      "source": [
        "#Calculating Mode for all devices\n",
        "print (st.mode(df_task1.total_revenue))"
      ],
      "execution_count": 0,
      "outputs": [
        {
          "output_type": "stream",
          "text": [
            "0.0\n"
          ],
          "name": "stdout"
        }
      ]
    },
    {
      "cell_type": "code",
      "metadata": {
        "id": "DS-ldffY67id",
        "colab_type": "code",
        "outputId": "809f787f-4e58-4513-c2ac-7ea8ae6eb282",
        "colab": {
          "base_uri": "https://localhost:8080/",
          "height": 300
        }
      },
      "source": [
        "#Mean and std (additionaly min, max and percentiles) for all devices\n",
        "df_task1.describe()"
      ],
      "execution_count": 0,
      "outputs": [
        {
          "output_type": "execute_result",
          "data": {
            "text/html": [
              "<div>\n",
              "<style scoped>\n",
              "    .dataframe tbody tr th:only-of-type {\n",
              "        vertical-align: middle;\n",
              "    }\n",
              "\n",
              "    .dataframe tbody tr th {\n",
              "        vertical-align: top;\n",
              "    }\n",
              "\n",
              "    .dataframe thead th {\n",
              "        text-align: right;\n",
              "    }\n",
              "</style>\n",
              "<table border=\"1\" class=\"dataframe\">\n",
              "  <thead>\n",
              "    <tr style=\"text-align: right;\">\n",
              "      <th></th>\n",
              "      <th>total_revenue</th>\n",
              "      <th>month</th>\n",
              "    </tr>\n",
              "  </thead>\n",
              "  <tbody>\n",
              "    <tr>\n",
              "      <th>count</th>\n",
              "      <td>42089.000000</td>\n",
              "      <td>42089.000000</td>\n",
              "    </tr>\n",
              "    <tr>\n",
              "      <th>mean</th>\n",
              "      <td>0.344027</td>\n",
              "      <td>8.538122</td>\n",
              "    </tr>\n",
              "    <tr>\n",
              "      <th>std</th>\n",
              "      <td>3.664971</td>\n",
              "      <td>3.990929</td>\n",
              "    </tr>\n",
              "    <tr>\n",
              "      <th>min</th>\n",
              "      <td>0.000000</td>\n",
              "      <td>1.000000</td>\n",
              "    </tr>\n",
              "    <tr>\n",
              "      <th>25%</th>\n",
              "      <td>0.000000</td>\n",
              "      <td>8.000000</td>\n",
              "    </tr>\n",
              "    <tr>\n",
              "      <th>50%</th>\n",
              "      <td>0.000000</td>\n",
              "      <td>10.000000</td>\n",
              "    </tr>\n",
              "    <tr>\n",
              "      <th>75%</th>\n",
              "      <td>0.000000</td>\n",
              "      <td>11.000000</td>\n",
              "    </tr>\n",
              "    <tr>\n",
              "      <th>max</th>\n",
              "      <td>453.750000</td>\n",
              "      <td>12.000000</td>\n",
              "    </tr>\n",
              "  </tbody>\n",
              "</table>\n",
              "</div>"
            ],
            "text/plain": [
              "       total_revenue         month\n",
              "count   42089.000000  42089.000000\n",
              "mean        0.344027      8.538122\n",
              "std         3.664971      3.990929\n",
              "min         0.000000      1.000000\n",
              "25%         0.000000      8.000000\n",
              "50%         0.000000     10.000000\n",
              "75%         0.000000     11.000000\n",
              "max       453.750000     12.000000"
            ]
          },
          "metadata": {
            "tags": []
          },
          "execution_count": 6
        }
      ]
    },
    {
      "cell_type": "code",
      "metadata": {
        "id": "ary4mEoHPRhS",
        "colab_type": "code",
        "outputId": "a733aceb-80c9-46be-91cf-dbc47051c803",
        "colab": {
          "base_uri": "https://localhost:8080/",
          "height": 36
        }
      },
      "source": [
        "#94% of all devices didn't bring any revenue\n",
        "df_task1.total_revenue.value_counts(normalize=True)[0]"
      ],
      "execution_count": 0,
      "outputs": [
        {
          "output_type": "execute_result",
          "data": {
            "text/plain": [
              "0.9407921309605836"
            ]
          },
          "metadata": {
            "tags": []
          },
          "execution_count": 7
        }
      ]
    },
    {
      "cell_type": "markdown",
      "metadata": {
        "id": "8wHb-Cq8ShNV",
        "colab_type": "text"
      },
      "source": [
        "Presenting on histogram how right skewed is distibution - majority of deivices (94%) didn't generate any revenue (mode is 0), \n",
        "mean is very low (0.344) and is influenced by a few high values up to 453.75 (but I wouldn't call them outliers)  "
      ]
    },
    {
      "cell_type": "code",
      "metadata": {
        "id": "ub6Taa3W6_p2",
        "colab_type": "code",
        "outputId": "f23d469c-5b70-4c1d-da97-de666858397f",
        "colab": {
          "base_uri": "https://localhost:8080/",
          "height": 359
        }
      },
      "source": [
        "plt.hist(df_task1.total_revenue)"
      ],
      "execution_count": 0,
      "outputs": [
        {
          "output_type": "execute_result",
          "data": {
            "text/plain": [
              "(array([4.2059e+04, 2.2000e+01, 5.0000e+00, 2.0000e+00, 0.0000e+00,\n",
              "        0.0000e+00, 0.0000e+00, 0.0000e+00, 0.0000e+00, 1.0000e+00]),\n",
              " array([  0.   ,  45.375,  90.75 , 136.125, 181.5  , 226.875, 272.25 ,\n",
              "        317.625, 363.   , 408.375, 453.75 ]),\n",
              " <a list of 10 Patch objects>)"
            ]
          },
          "metadata": {
            "tags": []
          },
          "execution_count": 8
        },
        {
          "output_type": "display_data",
          "data": {
            "image/png": "[encoded data removed]",
            "text/plain": [
              "<Figure size 432x288 with 1 Axes>"
            ]
          },
          "metadata": {
            "tags": []
          }
        }
      ]
    },
    {
      "cell_type": "markdown",
      "metadata": {
        "id": "jvOpo-ltDW2h",
        "colab_type": "text"
      },
      "source": [
        "When we take just 5 countries we cover more than 80%\n",
        " devices.\n",
        "\n"
      ]
    },
    {
      "cell_type": "code",
      "metadata": {
        "id": "ZxNEgTxTBffI",
        "colab_type": "code",
        "outputId": "abfebdd4-12c5-4ffe-e7f8-81e94e266c23",
        "colab": {
          "base_uri": "https://localhost:8080/",
          "height": 239
        }
      },
      "source": [
        "df_task1.country.value_counts(normalize=True)"
      ],
      "execution_count": 27,
      "outputs": [
        {
          "output_type": "execute_result",
          "data": {
            "text/plain": [
              "US    0.624929\n",
              "GB    0.082541\n",
              "CA    0.066218\n",
              "AU    0.033881\n",
              "RU    0.024449\n",
              "        ...   \n",
              "MR    0.000024\n",
              "ZM    0.000024\n",
              "RW    0.000024\n",
              "SD    0.000024\n",
              "VG    0.000024\n",
              "Name: country, Length: 161, dtype: float64"
            ]
          },
          "metadata": {
            "tags": []
          },
          "execution_count": 27
        }
      ]
    },
    {
      "cell_type": "code",
      "metadata": {
        "id": "eGy6knXdB4_H",
        "colab_type": "code",
        "colab": {}
      },
      "source": [
        "df_task1_f = df_task1[df_task1[\"country\"].isin([\"US\", \"GB\", \"CA\", \"AU\", \"RU\"])]"
      ],
      "execution_count": 0,
      "outputs": []
    },
    {
      "cell_type": "code",
      "metadata": {
        "id": "AT0lyTKEJtnq",
        "colab_type": "code",
        "outputId": "0a3cd1f7-0f11-4c2d-9c96-fa831876dc50",
        "colab": {
          "base_uri": "https://localhost:8080/",
          "height": 166
        }
      },
      "source": [
        "for country in df_task1_f.country.unique():\n",
        "  print (\"Mode of \" + str(country) + \" is \" + str(st.mode(df_task1_f[df_task1.country==country].total_revenue)))"
      ],
      "execution_count": 30,
      "outputs": [
        {
          "output_type": "stream",
          "text": [
            "Mode of US is 0.0\n",
            "Mode of AU is 0.0\n",
            "Mode of RU is 0.0\n",
            "Mode of GB is 0.0\n",
            "Mode of CA is 0.0\n"
          ],
          "name": "stdout"
        },
        {
          "output_type": "stream",
          "text": [
            "/usr/local/lib/python3.6/dist-packages/ipykernel_launcher.py:2: UserWarning: Boolean Series key will be reindexed to match DataFrame index.\n",
            "  \n"
          ],
          "name": "stderr"
        }
      ]
    },
    {
      "cell_type": "markdown",
      "metadata": {
        "id": "u3nIslaYQ7QJ",
        "colab_type": "text"
      },
      "source": [
        "We neet to be carreful when looking at stats - mode for PW (Palau?) was 52.55. Impressive?\n",
        "Not really when you check that there was just one device (but with quite high revenue)\n",
        "It's one of the reasons I decided to work on filtered list of countries."
      ]
    },
    {
      "cell_type": "code",
      "metadata": {
        "id": "w9x4b6Hj4zLy",
        "colab_type": "code",
        "colab": {
          "base_uri": "https://localhost:8080/",
          "height": 35
        },
        "outputId": "7dfe6a8a-b7fb-4cbf-8cb2-6963a5428a80"
      },
      "source": [
        "print(st.mode(df_task1[df_task1[\"country\"]==\"PW\"].total_revenue))"
      ],
      "execution_count": 121,
      "outputs": [
        {
          "output_type": "stream",
          "text": [
            "52.55\n"
          ],
          "name": "stdout"
        }
      ]
    },
    {
      "cell_type": "code",
      "metadata": {
        "id": "yVyKgSlxLfTB",
        "colab_type": "code",
        "outputId": "c4948663-e594-49c0-b7ef-382f96c4d494",
        "colab": {
          "base_uri": "https://localhost:8080/",
          "height": 80
        }
      },
      "source": [
        "df_task1[df_task1.country=='PW'].head()"
      ],
      "execution_count": 0,
      "outputs": [
        {
          "output_type": "execute_result",
          "data": {
            "text/html": [
              "<div>\n",
              "<style scoped>\n",
              "    .dataframe tbody tr th:only-of-type {\n",
              "        vertical-align: middle;\n",
              "    }\n",
              "\n",
              "    .dataframe tbody tr th {\n",
              "        vertical-align: top;\n",
              "    }\n",
              "\n",
              "    .dataframe thead th {\n",
              "        text-align: right;\n",
              "    }\n",
              "</style>\n",
              "<table border=\"1\" class=\"dataframe\">\n",
              "  <thead>\n",
              "    <tr style=\"text-align: right;\">\n",
              "      <th></th>\n",
              "      <th>device_id</th>\n",
              "      <th>device_install_date</th>\n",
              "      <th>country</th>\n",
              "      <th>total_revenue</th>\n",
              "      <th>month</th>\n",
              "    </tr>\n",
              "  </thead>\n",
              "  <tbody>\n",
              "    <tr>\n",
              "      <th>7383</th>\n",
              "      <td>A1C48062-29C2-4A16-8B08-C38220DEF283</td>\n",
              "      <td>2019-09-22</td>\n",
              "      <td>PW</td>\n",
              "      <td>52.55</td>\n",
              "      <td>9</td>\n",
              "    </tr>\n",
              "  </tbody>\n",
              "</table>\n",
              "</div>"
            ],
            "text/plain": [
              "                                 device_id  ... month\n",
              "7383  A1C48062-29C2-4A16-8B08-C38220DEF283  ...     9\n",
              "\n",
              "[1 rows x 5 columns]"
            ]
          },
          "metadata": {
            "tags": []
          },
          "execution_count": 12
        }
      ]
    },
    {
      "cell_type": "markdown",
      "metadata": {
        "id": "-uLmQ5KDRFLi",
        "colab_type": "text"
      },
      "source": [
        "First and most obvious  - in this dataset devices mostly come from US. Those devices also bring highest revenue (looking at average) but has the highest standard deviaton - it simply shows largest revenue range (you can see that also when looking at maximum values for countries). When we look at mode for those 5 countries it's 0 as the most common value is 0."
      ]
    },
    {
      "cell_type": "code",
      "metadata": {
        "id": "93aTtrQu_qxY",
        "colab_type": "code",
        "outputId": "ea001290-fddf-4cff-e812-ff01004b1913",
        "colab": {
          "base_uri": "https://localhost:8080/",
          "height": 793
        }
      },
      "source": [
        "print (df_task1_f.groupby('country').describe().unstack(1))"
      ],
      "execution_count": 31,
      "outputs": [
        {
          "output_type": "stream",
          "text": [
            "                      country\n",
            "total_revenue  count  AU          1426.000000\n",
            "                      CA          2787.000000\n",
            "                      GB          3474.000000\n",
            "                      RU          1029.000000\n",
            "                      US         26302.000000\n",
            "               mean   AU             0.046396\n",
            "                      CA             0.111285\n",
            "                      GB             0.083414\n",
            "                      RU             0.019932\n",
            "                      US             0.497724\n",
            "               std    AU             0.584708\n",
            "                      CA             1.103669\n",
            "                      GB             1.242848\n",
            "                      RU             0.552168\n",
            "                      US             4.532155\n",
            "               min    AU             0.000000\n",
            "                      CA             0.000000\n",
            "                      GB             0.000000\n",
            "                      RU             0.000000\n",
            "                      US             0.000000\n",
            "               25%    AU             0.000000\n",
            "                      CA             0.000000\n",
            "                      GB             0.000000\n",
            "                      RU             0.000000\n",
            "                      US             0.000000\n",
            "               50%    AU             0.000000\n",
            "                      CA             0.000000\n",
            "                      GB             0.000000\n",
            "                      RU             0.000000\n",
            "                      US             0.000000\n",
            "               75%    AU             0.000000\n",
            "                      CA             0.000000\n",
            "                      GB             0.000000\n",
            "                      RU             0.000000\n",
            "                      US             0.000000\n",
            "               max    AU            15.140000\n",
            "                      CA            31.120000\n",
            "                      GB            46.520000\n",
            "                      RU            17.620000\n",
            "                      US           453.750000\n",
            "dtype: float64\n"
          ],
          "name": "stdout"
        }
      ]
    },
    {
      "cell_type": "markdown",
      "metadata": {
        "id": "6pm4LyywSu8W",
        "colab_type": "text"
      },
      "source": [
        "**What do we get from this simply descriptive statistics?** \n",
        "\n",
        "We know our main markets and how revenue is distributed. Majority of devices didn't bring us any revenue (mean value isn't the best choice to describe our situation), but there are some nice results worth further investigation (top results).<br>\n",
        "\n",
        "**What could we do else?** <br>\n",
        "Do timeseries analysis - check if there are trends in time/ seasonality. <br>\n",
        "If we have number of transactions in time we could check what brings income - many small purchases or less but bigger? <br>\n",
        "If have dates of transaction if people install just before purchase or install and do shopping later? <br>\n",
        "What is churn rate? How quickly people de-install? I'm just wondering if there is a group of people who install before bigger purchase and de-install immediately after. If so, how to keep them? <br>\n",
        "Check how much we had to invest on the market to achive that revenue. <br>\n"
      ]
    },
    {
      "cell_type": "markdown",
      "metadata": {
        "id": "omWd2SiRXUj0",
        "colab_type": "text"
      },
      "source": [
        "**Part #3 - Revenue calculation exercise (Excel)<br>**\n",
        "A) our average year 1 revenue per user for <br>\n",
        "\n"
      ]
    },
    {
      "cell_type": "code",
      "metadata": {
        "id": "YyNzjJ2cXiTP",
        "colab_type": "code",
        "outputId": "1e3a86c5-4780-4c43-e360-48a6624ea790",
        "colab": {
          "base_uri": "https://localhost:8080/",
          "height": 257
        }
      },
      "source": [
        "df_task2 = pd.read_csv('task2.csv', parse_dates=['installedon', 'ordersfrom'])\n",
        "df_task2.index = pd.to_datetime(df_task2['ordersfrom'],format='%y-%m-%d')\n",
        "df_task2['total_rev_week'] = df_task2.avgperinst * df_task2.installcount\n",
        "df_task2.head()"
      ],
      "execution_count": 49,
      "outputs": [
        {
          "output_type": "execute_result",
          "data": {
            "text/html": [
              "<div>\n",
              "<style scoped>\n",
              "    .dataframe tbody tr th:only-of-type {\n",
              "        vertical-align: middle;\n",
              "    }\n",
              "\n",
              "    .dataframe tbody tr th {\n",
              "        vertical-align: top;\n",
              "    }\n",
              "\n",
              "    .dataframe thead th {\n",
              "        text-align: right;\n",
              "    }\n",
              "</style>\n",
              "<table border=\"1\" class=\"dataframe\">\n",
              "  <thead>\n",
              "    <tr style=\"text-align: right;\">\n",
              "      <th></th>\n",
              "      <th>installedon</th>\n",
              "      <th>installcount</th>\n",
              "      <th>uninstallcount</th>\n",
              "      <th>ordersfrom</th>\n",
              "      <th>totalusersconverted</th>\n",
              "      <th>ordersfromweek</th>\n",
              "      <th>avgperinst</th>\n",
              "      <th>thisweekusersconverted</th>\n",
              "      <th>usrperc</th>\n",
              "      <th>totalrevenue</th>\n",
              "      <th>total_rev_week</th>\n",
              "    </tr>\n",
              "    <tr>\n",
              "      <th>ordersfrom</th>\n",
              "      <th></th>\n",
              "      <th></th>\n",
              "      <th></th>\n",
              "      <th></th>\n",
              "      <th></th>\n",
              "      <th></th>\n",
              "      <th></th>\n",
              "      <th></th>\n",
              "      <th></th>\n",
              "      <th></th>\n",
              "      <th></th>\n",
              "    </tr>\n",
              "  </thead>\n",
              "  <tbody>\n",
              "    <tr>\n",
              "      <th>2019-02-18</th>\n",
              "      <td>2019-02-22</td>\n",
              "      <td>245</td>\n",
              "      <td>72</td>\n",
              "      <td>2019-02-18</td>\n",
              "      <td>32</td>\n",
              "      <td>1</td>\n",
              "      <td>0.0809</td>\n",
              "      <td>9</td>\n",
              "      <td>0.036735</td>\n",
              "      <td>234.05</td>\n",
              "      <td>19.8205</td>\n",
              "    </tr>\n",
              "    <tr>\n",
              "      <th>2019-02-25</th>\n",
              "      <td>2019-02-22</td>\n",
              "      <td>245</td>\n",
              "      <td>72</td>\n",
              "      <td>2019-02-25</td>\n",
              "      <td>32</td>\n",
              "      <td>2</td>\n",
              "      <td>0.0199</td>\n",
              "      <td>3</td>\n",
              "      <td>0.012245</td>\n",
              "      <td>234.05</td>\n",
              "      <td>4.8755</td>\n",
              "    </tr>\n",
              "    <tr>\n",
              "      <th>2019-03-04</th>\n",
              "      <td>2019-02-22</td>\n",
              "      <td>245</td>\n",
              "      <td>72</td>\n",
              "      <td>2019-03-04</td>\n",
              "      <td>32</td>\n",
              "      <td>3</td>\n",
              "      <td>0.0514</td>\n",
              "      <td>4</td>\n",
              "      <td>0.016327</td>\n",
              "      <td>234.05</td>\n",
              "      <td>12.5930</td>\n",
              "    </tr>\n",
              "    <tr>\n",
              "      <th>2019-03-11</th>\n",
              "      <td>2019-02-22</td>\n",
              "      <td>245</td>\n",
              "      <td>72</td>\n",
              "      <td>2019-03-11</td>\n",
              "      <td>32</td>\n",
              "      <td>4</td>\n",
              "      <td>0.0080</td>\n",
              "      <td>3</td>\n",
              "      <td>0.012245</td>\n",
              "      <td>234.05</td>\n",
              "      <td>1.9600</td>\n",
              "    </tr>\n",
              "    <tr>\n",
              "      <th>2019-03-18</th>\n",
              "      <td>2019-02-22</td>\n",
              "      <td>245</td>\n",
              "      <td>72</td>\n",
              "      <td>2019-03-18</td>\n",
              "      <td>32</td>\n",
              "      <td>5</td>\n",
              "      <td>0.0284</td>\n",
              "      <td>2</td>\n",
              "      <td>0.008163</td>\n",
              "      <td>234.05</td>\n",
              "      <td>6.9580</td>\n",
              "    </tr>\n",
              "  </tbody>\n",
              "</table>\n",
              "</div>"
            ],
            "text/plain": [
              "           installedon  installcount  ...  totalrevenue total_rev_week\n",
              "ordersfrom                            ...                             \n",
              "2019-02-18  2019-02-22           245  ...        234.05        19.8205\n",
              "2019-02-25  2019-02-22           245  ...        234.05         4.8755\n",
              "2019-03-04  2019-02-22           245  ...        234.05        12.5930\n",
              "2019-03-11  2019-02-22           245  ...        234.05         1.9600\n",
              "2019-03-18  2019-02-22           245  ...        234.05         6.9580\n",
              "\n",
              "[5 rows x 11 columns]"
            ]
          },
          "metadata": {
            "tags": []
          },
          "execution_count": 49
        }
      ]
    },
    {
      "cell_type": "markdown",
      "metadata": {
        "id": "84TbrHooZYUN",
        "colab_type": "text"
      },
      "source": [
        "ARPU  = total revenue/ total number of users <br>\n",
        "Taking total number of users - leaving those who already uninstalled."
      ]
    },
    {
      "cell_type": "code",
      "metadata": {
        "id": "Gq6fZgIh1Vky",
        "colab_type": "code",
        "colab": {
          "base_uri": "https://localhost:8080/",
          "height": 237
        },
        "outputId": "8422ed1e-6086-469f-9201-25d876cf108b"
      },
      "source": [
        "#Grouping data by days and take just one value per day (to not duplicate revenues)\n",
        "grouped_day = df_task2[['installedon', 'totalrevenue','installcount' ]].groupby(pd.Grouper(freq='D')).max()\n",
        "grouped_day.head()"
      ],
      "execution_count": 23,
      "outputs": [
        {
          "output_type": "execute_result",
          "data": {
            "text/html": [
              "<div>\n",
              "<style scoped>\n",
              "    .dataframe tbody tr th:only-of-type {\n",
              "        vertical-align: middle;\n",
              "    }\n",
              "\n",
              "    .dataframe tbody tr th {\n",
              "        vertical-align: top;\n",
              "    }\n",
              "\n",
              "    .dataframe thead th {\n",
              "        text-align: right;\n",
              "    }\n",
              "</style>\n",
              "<table border=\"1\" class=\"dataframe\">\n",
              "  <thead>\n",
              "    <tr style=\"text-align: right;\">\n",
              "      <th></th>\n",
              "      <th>installedon</th>\n",
              "      <th>totalrevenue</th>\n",
              "      <th>installcount</th>\n",
              "    </tr>\n",
              "    <tr>\n",
              "      <th>installedon</th>\n",
              "      <th></th>\n",
              "      <th></th>\n",
              "      <th></th>\n",
              "    </tr>\n",
              "  </thead>\n",
              "  <tbody>\n",
              "    <tr>\n",
              "      <th>2019-02-22</th>\n",
              "      <td>2019-02-22</td>\n",
              "      <td>234.05</td>\n",
              "      <td>245.0</td>\n",
              "    </tr>\n",
              "    <tr>\n",
              "      <th>2019-02-23</th>\n",
              "      <td>2019-02-23</td>\n",
              "      <td>446.82</td>\n",
              "      <td>338.0</td>\n",
              "    </tr>\n",
              "    <tr>\n",
              "      <th>2019-02-24</th>\n",
              "      <td>2019-02-24</td>\n",
              "      <td>473.71</td>\n",
              "      <td>404.0</td>\n",
              "    </tr>\n",
              "    <tr>\n",
              "      <th>2019-02-25</th>\n",
              "      <td>2019-02-25</td>\n",
              "      <td>295.39</td>\n",
              "      <td>386.0</td>\n",
              "    </tr>\n",
              "    <tr>\n",
              "      <th>2019-02-26</th>\n",
              "      <td>2019-02-26</td>\n",
              "      <td>956.65</td>\n",
              "      <td>464.0</td>\n",
              "    </tr>\n",
              "  </tbody>\n",
              "</table>\n",
              "</div>"
            ],
            "text/plain": [
              "            installedon  totalrevenue  installcount\n",
              "installedon                                        \n",
              "2019-02-22   2019-02-22        234.05         245.0\n",
              "2019-02-23   2019-02-23        446.82         338.0\n",
              "2019-02-24   2019-02-24        473.71         404.0\n",
              "2019-02-25   2019-02-25        295.39         386.0\n",
              "2019-02-26   2019-02-26        956.65         464.0"
            ]
          },
          "metadata": {
            "tags": []
          },
          "execution_count": 23
        }
      ]
    },
    {
      "cell_type": "markdown",
      "metadata": {
        "id": "1Ir3YF_oFO_0",
        "colab_type": "text"
      },
      "source": [
        "We have exactly one year installation data history so average 1 year per user revenue is **0.63**"
      ]
    },
    {
      "cell_type": "code",
      "metadata": {
        "id": "hJeddVx81gDl",
        "colab_type": "code",
        "colab": {
          "base_uri": "https://localhost:8080/",
          "height": 72
        },
        "outputId": "2a19b708-e218-418a-a92e-eed06ceff80b"
      },
      "source": [
        "print('ARPU: ' + str(grouped_day.totalrevenue.sum()/ grouped_day.installcount.sum()))\n",
        "print('Total revenue: ' + str(grouped_day.totalrevenue.sum()))\n",
        "print('Total installed: ' + str(grouped_day.installcount.sum()))"
      ],
      "execution_count": 91,
      "outputs": [
        {
          "output_type": "stream",
          "text": [
            "ARPU: 0.6324736329981769\n",
            "Total revenue: 56550.1\n",
            "Total installed: 89411.0\n"
          ],
          "name": "stdout"
        }
      ]
    },
    {
      "cell_type": "markdown",
      "metadata": {
        "id": "mQdrBw7VHC4k",
        "colab_type": "text"
      },
      "source": [
        "B) our average revenue per user over time, indicating whether this has changed over time <br>\n",
        "Starting from aggregating and summing to see data weekly plus calculating revenue by install count"
      ]
    },
    {
      "cell_type": "code",
      "metadata": {
        "id": "2cE5GAKGz2nv",
        "colab_type": "code",
        "colab": {
          "base_uri": "https://localhost:8080/",
          "height": 237
        },
        "outputId": "4c246480-b786-4192-ee75-9ac0c8ff20ea"
      },
      "source": [
        "grouped_week = df_task2[['ordersfrom', 'total_rev_week','installcount' ,'uninstallcount']].groupby(pd.Grouper(freq='W-MON')).sum()\n",
        "grouped_week.head()"
      ],
      "execution_count": 107,
      "outputs": [
        {
          "output_type": "execute_result",
          "data": {
            "text/html": [
              "<div>\n",
              "<style scoped>\n",
              "    .dataframe tbody tr th:only-of-type {\n",
              "        vertical-align: middle;\n",
              "    }\n",
              "\n",
              "    .dataframe tbody tr th {\n",
              "        vertical-align: top;\n",
              "    }\n",
              "\n",
              "    .dataframe thead th {\n",
              "        text-align: right;\n",
              "    }\n",
              "</style>\n",
              "<table border=\"1\" class=\"dataframe\">\n",
              "  <thead>\n",
              "    <tr style=\"text-align: right;\">\n",
              "      <th></th>\n",
              "      <th>total_rev_week</th>\n",
              "      <th>installcount</th>\n",
              "      <th>uninstallcount</th>\n",
              "    </tr>\n",
              "    <tr>\n",
              "      <th>ordersfrom</th>\n",
              "      <th></th>\n",
              "      <th></th>\n",
              "      <th></th>\n",
              "    </tr>\n",
              "  </thead>\n",
              "  <tbody>\n",
              "    <tr>\n",
              "      <th>2019-02-18</th>\n",
              "      <td>87.9671</td>\n",
              "      <td>987</td>\n",
              "      <td>287</td>\n",
              "    </tr>\n",
              "    <tr>\n",
              "      <th>2019-02-25</th>\n",
              "      <td>582.5403</td>\n",
              "      <td>3838</td>\n",
              "      <td>1116</td>\n",
              "    </tr>\n",
              "    <tr>\n",
              "      <th>2019-03-04</th>\n",
              "      <td>639.8427</td>\n",
              "      <td>6540</td>\n",
              "      <td>1840</td>\n",
              "    </tr>\n",
              "    <tr>\n",
              "      <th>2019-03-11</th>\n",
              "      <td>995.3910</td>\n",
              "      <td>9162</td>\n",
              "      <td>2512</td>\n",
              "    </tr>\n",
              "    <tr>\n",
              "      <th>2019-03-18</th>\n",
              "      <td>1088.0171</td>\n",
              "      <td>11604</td>\n",
              "      <td>3159</td>\n",
              "    </tr>\n",
              "  </tbody>\n",
              "</table>\n",
              "</div>"
            ],
            "text/plain": [
              "            total_rev_week  installcount  uninstallcount\n",
              "ordersfrom                                              \n",
              "2019-02-18         87.9671           987             287\n",
              "2019-02-25        582.5403          3838            1116\n",
              "2019-03-04        639.8427          6540            1840\n",
              "2019-03-11        995.3910          9162            2512\n",
              "2019-03-18       1088.0171         11604            3159"
            ]
          },
          "metadata": {
            "tags": []
          },
          "execution_count": 107
        }
      ]
    },
    {
      "cell_type": "markdown",
      "metadata": {
        "id": "DE4unXx-3d5P",
        "colab_type": "text"
      },
      "source": [
        "When we look this way, weekly revenue per user is much lower - it's because we take weekly revenue and divide that by all users who already installed (minus those who uninstalled)."
      ]
    },
    {
      "cell_type": "code",
      "metadata": {
        "id": "JxXg9u14S3p0",
        "colab_type": "code",
        "outputId": "5bae876f-3fce-4307-fcf5-631bd5121b74",
        "colab": {
          "base_uri": "https://localhost:8080/",
          "height": 237
        }
      },
      "source": [
        "grouped_week2 = grouped_week\n",
        "grouped_week2['inun_count'] = grouped_week.installcount - grouped_week.uninstallcount\n",
        "grouped_week2['rev_by_count'] = grouped_week2.total_rev_week / grouped_week2.inun_count\n",
        "\n",
        "grouped_week2.head()"
      ],
      "execution_count": 117,
      "outputs": [
        {
          "output_type": "execute_result",
          "data": {
            "text/html": [
              "<div>\n",
              "<style scoped>\n",
              "    .dataframe tbody tr th:only-of-type {\n",
              "        vertical-align: middle;\n",
              "    }\n",
              "\n",
              "    .dataframe tbody tr th {\n",
              "        vertical-align: top;\n",
              "    }\n",
              "\n",
              "    .dataframe thead th {\n",
              "        text-align: right;\n",
              "    }\n",
              "</style>\n",
              "<table border=\"1\" class=\"dataframe\">\n",
              "  <thead>\n",
              "    <tr style=\"text-align: right;\">\n",
              "      <th></th>\n",
              "      <th>total_rev_week</th>\n",
              "      <th>installcount</th>\n",
              "      <th>uninstallcount</th>\n",
              "      <th>inun_count</th>\n",
              "      <th>rev_by_count</th>\n",
              "    </tr>\n",
              "    <tr>\n",
              "      <th>ordersfrom</th>\n",
              "      <th></th>\n",
              "      <th></th>\n",
              "      <th></th>\n",
              "      <th></th>\n",
              "      <th></th>\n",
              "    </tr>\n",
              "  </thead>\n",
              "  <tbody>\n",
              "    <tr>\n",
              "      <th>2019-02-18</th>\n",
              "      <td>87.9671</td>\n",
              "      <td>987</td>\n",
              "      <td>287</td>\n",
              "      <td>700</td>\n",
              "      <td>0.125667</td>\n",
              "    </tr>\n",
              "    <tr>\n",
              "      <th>2019-02-25</th>\n",
              "      <td>582.5403</td>\n",
              "      <td>3838</td>\n",
              "      <td>1116</td>\n",
              "      <td>2722</td>\n",
              "      <td>0.214012</td>\n",
              "    </tr>\n",
              "    <tr>\n",
              "      <th>2019-03-04</th>\n",
              "      <td>639.8427</td>\n",
              "      <td>6540</td>\n",
              "      <td>1840</td>\n",
              "      <td>4700</td>\n",
              "      <td>0.136137</td>\n",
              "    </tr>\n",
              "    <tr>\n",
              "      <th>2019-03-11</th>\n",
              "      <td>995.3910</td>\n",
              "      <td>9162</td>\n",
              "      <td>2512</td>\n",
              "      <td>6650</td>\n",
              "      <td>0.149683</td>\n",
              "    </tr>\n",
              "    <tr>\n",
              "      <th>2019-03-18</th>\n",
              "      <td>1088.0171</td>\n",
              "      <td>11604</td>\n",
              "      <td>3159</td>\n",
              "      <td>8445</td>\n",
              "      <td>0.128836</td>\n",
              "    </tr>\n",
              "  </tbody>\n",
              "</table>\n",
              "</div>"
            ],
            "text/plain": [
              "            total_rev_week  installcount  ...  inun_count  rev_by_count\n",
              "ordersfrom                                ...                          \n",
              "2019-02-18         87.9671           987  ...         700      0.125667\n",
              "2019-02-25        582.5403          3838  ...        2722      0.214012\n",
              "2019-03-04        639.8427          6540  ...        4700      0.136137\n",
              "2019-03-11        995.3910          9162  ...        6650      0.149683\n",
              "2019-03-18       1088.0171         11604  ...        8445      0.128836\n",
              "\n",
              "[5 rows x 5 columns]"
            ]
          },
          "metadata": {
            "tags": []
          },
          "execution_count": 117
        }
      ]
    },
    {
      "cell_type": "markdown",
      "metadata": {
        "id": "tB0gRwpd4CTf",
        "colab_type": "text"
      },
      "source": [
        "Simply visualisations"
      ]
    },
    {
      "cell_type": "markdown",
      "metadata": {
        "id": "W0pcsCdl6Cf3",
        "colab_type": "text"
      },
      "source": [
        "Graph below shows how revenue by existing user was changing in time. Another idea would be to show how much revenues come from users who installed that week."
      ]
    },
    {
      "cell_type": "code",
      "metadata": {
        "id": "SJ3rKBDngi7m",
        "colab_type": "code",
        "colab": {
          "base_uri": "https://localhost:8080/",
          "height": 281
        },
        "outputId": "fc02127e-3f56-4495-8a91-0d187e944134"
      },
      "source": [
        "plt.plot(grouped_week2.rev_by_count)\n",
        "plt.title('Revenue by existing users (weekly)')\n",
        "plt.show()"
      ],
      "execution_count": 115,
      "outputs": [
        {
          "output_type": "display_data",
          "data": {
            "image/png": "[encoded data removed]",
            "text/plain": [
              "<Figure size 432x288 with 1 Axes>"
            ]
          },
          "metadata": {
            "tags": []
          }
        }
      ]
    },
    {
      "cell_type": "code",
      "metadata": {
        "id": "NpP4AGoeijsQ",
        "colab_type": "code",
        "colab": {
          "base_uri": "https://localhost:8080/",
          "height": 281
        },
        "outputId": "5551dd6b-64af-426d-e83a-394b3b265198"
      },
      "source": [
        "plt.plot(grouped_week2.inun_count)\n",
        "plt.title('Overall number of installed extensions')\n",
        "plt.show()"
      ],
      "execution_count": 113,
      "outputs": [
        {
          "output_type": "display_data",
          "data": {
            "image/png": "[encoded data removed]",
            "text/plain": [
              "<Figure size 432x288 with 1 Axes>"
            ]
          },
          "metadata": {
            "tags": []
          }
        }
      ]
    },
    {
      "cell_type": "code",
      "metadata": {
        "id": "RbGNqAoti3OJ",
        "colab_type": "code",
        "colab": {
          "base_uri": "https://localhost:8080/",
          "height": 281
        },
        "outputId": "467c8421-c84f-486f-85fc-70980b7215a8"
      },
      "source": [
        "plt.plot(grouped_week2.total_rev_week)\n",
        "plt.title('Weekly Revenue')\n",
        "plt.show()"
      ],
      "execution_count": 114,
      "outputs": [
        {
          "output_type": "display_data",
          "data": {
            "image/png": "[encoded data removed]",
            "text/plain": [
              "<Figure size 432x288 with 1 Axes>"
            ]
          },
          "metadata": {
            "tags": []
          }
        }
      ]
    }
  ]
}