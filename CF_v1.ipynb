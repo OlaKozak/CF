{
  "nbformat": 4,
  "nbformat_minor": 0,
  "metadata": {
    "colab": {
      "name": "CF_C.ipynb",
      "provenance": [],
      "collapsed_sections": [],
      "toc_visible": true,
      "mount_file_id": "1xWHvugZdGN6TcTHbf3rnbDdjx0Lzk2us",
      "authorship_tag": "ABX9TyOnws/dJR1odtjjB81FchwF",
      "include_colab_link": true
    },
    "kernelspec": {
      "name": "python3",
      "display_name": "Python 3"
    }
  },
  "cells": [
    {
      "cell_type": "markdown",
      "metadata": {
        "id": "view-in-github",
        "colab_type": "text"
      },
      "source": [
        "<a href=\"https://colab.research.google.com/github/OlaKozak/CF/blob/master/CF_v1.ipynb\" target=\"_parent\"><img src=\"https://colab.research.google.com/assets/colab-badge.svg\" alt=\"Open In Colab\"/></a>"
      ]
    },
    {
      "cell_type": "code",
      "metadata": {
        "id": "UlKLMXY45bLo",
        "colab_type": "code",
        "colab": {}
      },
      "source": [
        "import pandas as pd\n",
        "import numpy as np\n",
        "import statistics as st\n",
        "import matplotlib.pyplot as plt"
      ],
      "execution_count": 0,
      "outputs": []
    },
    {
      "cell_type": "code",
      "metadata": {
        "id": "UU0HU-0A5m8r",
        "colab_type": "code",
        "outputId": "90ada010-5030-4152-83a0-fbe121d568f9",
        "colab": {
          "base_uri": "https://localhost:8080/",
          "height": 36
        }
      },
      "source": [
        "cd \"/content/drive/My Drive/Colab Notebooks/CF_C\""
      ],
      "execution_count": 2,
      "outputs": [
        {
          "output_type": "stream",
          "text": [
            "/content/drive/My Drive/Colab Notebooks/CF_C\n"
          ],
          "name": "stdout"
        }
      ]
    },
    {
      "cell_type": "markdown",
      "metadata": {
        "id": "hPA96BcIUYZ1",
        "colab_type": "text"
      },
      "source": [
        "**Part #2 - Revenue per device analysis (Excel)**"
      ]
    },
    {
      "cell_type": "code",
      "metadata": {
        "id": "Cxz7Z9Sa6NQ6",
        "colab_type": "code",
        "outputId": "38712f57-4f9d-4cf9-ecb8-dba04a5a30b5",
        "colab": {
          "base_uri": "https://localhost:8080/",
          "height": 206
        }
      },
      "source": [
        "#Importing data\n",
        "df_task1 = pd.read_csv('task1.csv', parse_dates=['device_install_date'])\n",
        "df_task1['month'] = pd.DatetimeIndex(df_task1['device_install_date']).month\n",
        "df_task1.head()"
      ],
      "execution_count": 3,
      "outputs": [
        {
          "output_type": "execute_result",
          "data": {
            "text/html": [
              "<div>\n",
              "<style scoped>\n",
              "    .dataframe tbody tr th:only-of-type {\n",
              "        vertical-align: middle;\n",
              "    }\n",
              "\n",
              "    .dataframe tbody tr th {\n",
              "        vertical-align: top;\n",
              "    }\n",
              "\n",
              "    .dataframe thead th {\n",
              "        text-align: right;\n",
              "    }\n",
              "</style>\n",
              "<table border=\"1\" class=\"dataframe\">\n",
              "  <thead>\n",
              "    <tr style=\"text-align: right;\">\n",
              "      <th></th>\n",
              "      <th>device_id</th>\n",
              "      <th>device_install_date</th>\n",
              "      <th>country</th>\n",
              "      <th>total_revenue</th>\n",
              "      <th>month</th>\n",
              "    </tr>\n",
              "  </thead>\n",
              "  <tbody>\n",
              "    <tr>\n",
              "      <th>0</th>\n",
              "      <td>FD80F264-5F61-4244-A9C7-5657E38A45A8</td>\n",
              "      <td>2019-08-11</td>\n",
              "      <td>US</td>\n",
              "      <td>3.14</td>\n",
              "      <td>8</td>\n",
              "    </tr>\n",
              "    <tr>\n",
              "      <th>1</th>\n",
              "      <td>160B8148-4541-4FEE-97BB-A333EEF3EDAE</td>\n",
              "      <td>2019-08-11</td>\n",
              "      <td>US</td>\n",
              "      <td>10.05</td>\n",
              "      <td>8</td>\n",
              "    </tr>\n",
              "    <tr>\n",
              "      <th>2</th>\n",
              "      <td>B470E082-29D9-4FED-BC7A-83906425855C</td>\n",
              "      <td>2019-08-11</td>\n",
              "      <td>US</td>\n",
              "      <td>11.95</td>\n",
              "      <td>8</td>\n",
              "    </tr>\n",
              "    <tr>\n",
              "      <th>3</th>\n",
              "      <td>559E65BB-AB4A-4CB2-AB54-60B8C47FCFD8</td>\n",
              "      <td>2019-08-11</td>\n",
              "      <td>US</td>\n",
              "      <td>0.00</td>\n",
              "      <td>8</td>\n",
              "    </tr>\n",
              "    <tr>\n",
              "      <th>4</th>\n",
              "      <td>307C26F6-F4BD-4A5B-AF9F-5678EAA29494</td>\n",
              "      <td>2019-08-11</td>\n",
              "      <td>AU</td>\n",
              "      <td>0.00</td>\n",
              "      <td>8</td>\n",
              "    </tr>\n",
              "  </tbody>\n",
              "</table>\n",
              "</div>"
            ],
            "text/plain": [
              "                              device_id  ... month\n",
              "0  FD80F264-5F61-4244-A9C7-5657E38A45A8  ...     8\n",
              "1  160B8148-4541-4FEE-97BB-A333EEF3EDAE  ...     8\n",
              "2  B470E082-29D9-4FED-BC7A-83906425855C  ...     8\n",
              "3  559E65BB-AB4A-4CB2-AB54-60B8C47FCFD8  ...     8\n",
              "4  307C26F6-F4BD-4A5B-AF9F-5678EAA29494  ...     8\n",
              "\n",
              "[5 rows x 5 columns]"
            ]
          },
          "metadata": {
            "tags": []
          },
          "execution_count": 3
        }
      ]
    },
    {
      "cell_type": "code",
      "metadata": {
        "id": "jsezCJRaNlqx",
        "colab_type": "code",
        "outputId": "f17c9d75-95e3-47c8-c493-6eb1fb42aec6",
        "colab": {
          "base_uri": "https://localhost:8080/",
          "height": 363
        }
      },
      "source": [
        "#10 highest values come from US\n",
        "df_task1.sort_values('total_revenue', ascending=False).head(10)"
      ],
      "execution_count": 4,
      "outputs": [
        {
          "output_type": "execute_result",
          "data": {
            "text/html": [
              "<div>\n",
              "<style scoped>\n",
              "    .dataframe tbody tr th:only-of-type {\n",
              "        vertical-align: middle;\n",
              "    }\n",
              "\n",
              "    .dataframe tbody tr th {\n",
              "        vertical-align: top;\n",
              "    }\n",
              "\n",
              "    .dataframe thead th {\n",
              "        text-align: right;\n",
              "    }\n",
              "</style>\n",
              "<table border=\"1\" class=\"dataframe\">\n",
              "  <thead>\n",
              "    <tr style=\"text-align: right;\">\n",
              "      <th></th>\n",
              "      <th>device_id</th>\n",
              "      <th>device_install_date</th>\n",
              "      <th>country</th>\n",
              "      <th>total_revenue</th>\n",
              "      <th>month</th>\n",
              "    </tr>\n",
              "  </thead>\n",
              "  <tbody>\n",
              "    <tr>\n",
              "      <th>27870</th>\n",
              "      <td>E5B3407C-E440-414F-A63C-C9BDDD415EAD</td>\n",
              "      <td>2019-12-12</td>\n",
              "      <td>US</td>\n",
              "      <td>453.75</td>\n",
              "      <td>12</td>\n",
              "    </tr>\n",
              "    <tr>\n",
              "      <th>11440</th>\n",
              "      <td>721EFF7C-85FA-493E-98C2-241D3703CACF</td>\n",
              "      <td>2019-10-13</td>\n",
              "      <td>US</td>\n",
              "      <td>178.79</td>\n",
              "      <td>10</td>\n",
              "    </tr>\n",
              "    <tr>\n",
              "      <th>8247</th>\n",
              "      <td>2EA532C9-F8D1-43D2-A8BD-73E939C17596</td>\n",
              "      <td>2019-09-27</td>\n",
              "      <td>US</td>\n",
              "      <td>148.10</td>\n",
              "      <td>9</td>\n",
              "    </tr>\n",
              "    <tr>\n",
              "      <th>27925</th>\n",
              "      <td>C0965EFD-096D-4E59-8407-7F9420158B64</td>\n",
              "      <td>2019-12-12</td>\n",
              "      <td>US</td>\n",
              "      <td>124.62</td>\n",
              "      <td>12</td>\n",
              "    </tr>\n",
              "    <tr>\n",
              "      <th>35010</th>\n",
              "      <td>EC4B3080-08B9-4F58-A47B-D5BE94081A93</td>\n",
              "      <td>2020-01-07</td>\n",
              "      <td>US</td>\n",
              "      <td>120.00</td>\n",
              "      <td>1</td>\n",
              "    </tr>\n",
              "    <tr>\n",
              "      <th>34496</th>\n",
              "      <td>2578199E-8BAE-445C-9E03-D6286A11D111</td>\n",
              "      <td>2020-01-05</td>\n",
              "      <td>US</td>\n",
              "      <td>117.72</td>\n",
              "      <td>1</td>\n",
              "    </tr>\n",
              "    <tr>\n",
              "      <th>7807</th>\n",
              "      <td>CECD6914-07D6-4751-AAF8-03AC5BD6490B</td>\n",
              "      <td>2019-09-24</td>\n",
              "      <td>US</td>\n",
              "      <td>106.24</td>\n",
              "      <td>9</td>\n",
              "    </tr>\n",
              "    <tr>\n",
              "      <th>22210</th>\n",
              "      <td>A56E4414-E371-4AF5-AE31-812DCD376F30</td>\n",
              "      <td>2019-11-29</td>\n",
              "      <td>US</td>\n",
              "      <td>96.31</td>\n",
              "      <td>11</td>\n",
              "    </tr>\n",
              "    <tr>\n",
              "      <th>27714</th>\n",
              "      <td>949BC1C1-5ED0-45DE-8195-C8D2949475AF</td>\n",
              "      <td>2019-12-12</td>\n",
              "      <td>US</td>\n",
              "      <td>90.66</td>\n",
              "      <td>12</td>\n",
              "    </tr>\n",
              "    <tr>\n",
              "      <th>19630</th>\n",
              "      <td>F8AD4945-4D55-4147-973B-27104E4E0008</td>\n",
              "      <td>2019-11-22</td>\n",
              "      <td>US</td>\n",
              "      <td>88.98</td>\n",
              "      <td>11</td>\n",
              "    </tr>\n",
              "  </tbody>\n",
              "</table>\n",
              "</div>"
            ],
            "text/plain": [
              "                                  device_id  ... month\n",
              "27870  E5B3407C-E440-414F-A63C-C9BDDD415EAD  ...    12\n",
              "11440  721EFF7C-85FA-493E-98C2-241D3703CACF  ...    10\n",
              "8247   2EA532C9-F8D1-43D2-A8BD-73E939C17596  ...     9\n",
              "27925  C0965EFD-096D-4E59-8407-7F9420158B64  ...    12\n",
              "35010  EC4B3080-08B9-4F58-A47B-D5BE94081A93  ...     1\n",
              "34496  2578199E-8BAE-445C-9E03-D6286A11D111  ...     1\n",
              "7807   CECD6914-07D6-4751-AAF8-03AC5BD6490B  ...     9\n",
              "22210  A56E4414-E371-4AF5-AE31-812DCD376F30  ...    11\n",
              "27714  949BC1C1-5ED0-45DE-8195-C8D2949475AF  ...    12\n",
              "19630  F8AD4945-4D55-4147-973B-27104E4E0008  ...    11\n",
              "\n",
              "[10 rows x 5 columns]"
            ]
          },
          "metadata": {
            "tags": []
          },
          "execution_count": 4
        }
      ]
    },
    {
      "cell_type": "code",
      "metadata": {
        "id": "tHFmhDRpJMaX",
        "colab_type": "code",
        "outputId": "f279135d-4f33-4ead-995a-eda5470c4221",
        "colab": {
          "base_uri": "https://localhost:8080/",
          "height": 36
        }
      },
      "source": [
        "#Calculating Mode for all devices\n",
        "print (st.mode(df_task1.total_revenue))"
      ],
      "execution_count": 5,
      "outputs": [
        {
          "output_type": "stream",
          "text": [
            "0.0\n"
          ],
          "name": "stdout"
        }
      ]
    },
    {
      "cell_type": "code",
      "metadata": {
        "id": "DS-ldffY67id",
        "colab_type": "code",
        "outputId": "809f787f-4e58-4513-c2ac-7ea8ae6eb282",
        "colab": {
          "base_uri": "https://localhost:8080/",
          "height": 300
        }
      },
      "source": [
        "#Mean and std (additionaly min, max and percentiles) for all devices\n",
        "df_task1.describe()"
      ],
      "execution_count": 6,
      "outputs": [
        {
          "output_type": "execute_result",
          "data": {
            "text/html": [
              "<div>\n",
              "<style scoped>\n",
              "    .dataframe tbody tr th:only-of-type {\n",
              "        vertical-align: middle;\n",
              "    }\n",
              "\n",
              "    .dataframe tbody tr th {\n",
              "        vertical-align: top;\n",
              "    }\n",
              "\n",
              "    .dataframe thead th {\n",
              "        text-align: right;\n",
              "    }\n",
              "</style>\n",
              "<table border=\"1\" class=\"dataframe\">\n",
              "  <thead>\n",
              "    <tr style=\"text-align: right;\">\n",
              "      <th></th>\n",
              "      <th>total_revenue</th>\n",
              "      <th>month</th>\n",
              "    </tr>\n",
              "  </thead>\n",
              "  <tbody>\n",
              "    <tr>\n",
              "      <th>count</th>\n",
              "      <td>42089.000000</td>\n",
              "      <td>42089.000000</td>\n",
              "    </tr>\n",
              "    <tr>\n",
              "      <th>mean</th>\n",
              "      <td>0.344027</td>\n",
              "      <td>8.538122</td>\n",
              "    </tr>\n",
              "    <tr>\n",
              "      <th>std</th>\n",
              "      <td>3.664971</td>\n",
              "      <td>3.990929</td>\n",
              "    </tr>\n",
              "    <tr>\n",
              "      <th>min</th>\n",
              "      <td>0.000000</td>\n",
              "      <td>1.000000</td>\n",
              "    </tr>\n",
              "    <tr>\n",
              "      <th>25%</th>\n",
              "      <td>0.000000</td>\n",
              "      <td>8.000000</td>\n",
              "    </tr>\n",
              "    <tr>\n",
              "      <th>50%</th>\n",
              "      <td>0.000000</td>\n",
              "      <td>10.000000</td>\n",
              "    </tr>\n",
              "    <tr>\n",
              "      <th>75%</th>\n",
              "      <td>0.000000</td>\n",
              "      <td>11.000000</td>\n",
              "    </tr>\n",
              "    <tr>\n",
              "      <th>max</th>\n",
              "      <td>453.750000</td>\n",
              "      <td>12.000000</td>\n",
              "    </tr>\n",
              "  </tbody>\n",
              "</table>\n",
              "</div>"
            ],
            "text/plain": [
              "       total_revenue         month\n",
              "count   42089.000000  42089.000000\n",
              "mean        0.344027      8.538122\n",
              "std         3.664971      3.990929\n",
              "min         0.000000      1.000000\n",
              "25%         0.000000      8.000000\n",
              "50%         0.000000     10.000000\n",
              "75%         0.000000     11.000000\n",
              "max       453.750000     12.000000"
            ]
          },
          "metadata": {
            "tags": []
          },
          "execution_count": 6
        }
      ]
    },
    {
      "cell_type": "code",
      "metadata": {
        "id": "ary4mEoHPRhS",
        "colab_type": "code",
        "outputId": "a733aceb-80c9-46be-91cf-dbc47051c803",
        "colab": {
          "base_uri": "https://localhost:8080/",
          "height": 36
        }
      },
      "source": [
        "#94% of all devices didn't bring any revenue\n",
        "df_task1.total_revenue.value_counts(normalize=True)[0]"
      ],
      "execution_count": 7,
      "outputs": [
        {
          "output_type": "execute_result",
          "data": {
            "text/plain": [
              "0.9407921309605836"
            ]
          },
          "metadata": {
            "tags": []
          },
          "execution_count": 7
        }
      ]
    },
    {
      "cell_type": "markdown",
      "metadata": {
        "id": "8wHb-Cq8ShNV",
        "colab_type": "text"
      },
      "source": [
        "Presenting on histogram how right skewed is distibution - majority of deivices (94%) didn't generate any revenue (mode is 0), \n",
        "mean is very low (0.344) and influenced a few high values up to 453.75 (but I wouldn't call them outliers)  "
      ]
    },
    {
      "cell_type": "code",
      "metadata": {
        "id": "ub6Taa3W6_p2",
        "colab_type": "code",
        "outputId": "f23d469c-5b70-4c1d-da97-de666858397f",
        "colab": {
          "base_uri": "https://localhost:8080/",
          "height": 359
        }
      },
      "source": [
        "plt.hist(df_task1.total_revenue)"
      ],
      "execution_count": 8,
      "outputs": [
        {
          "output_type": "execute_result",
          "data": {
            "text/plain": [
              "(array([4.2059e+04, 2.2000e+01, 5.0000e+00, 2.0000e+00, 0.0000e+00,\n",
              "        0.0000e+00, 0.0000e+00, 0.0000e+00, 0.0000e+00, 1.0000e+00]),\n",
              " array([  0.   ,  45.375,  90.75 , 136.125, 181.5  , 226.875, 272.25 ,\n",
              "        317.625, 363.   , 408.375, 453.75 ]),\n",
              " <a list of 10 Patch objects>)"
            ]
          },
          "metadata": {
            "tags": []
          },
          "execution_count": 8
        },
        {
          "output_type": "display_data",
          "data": {
            "image/png": "[encoded data removed]",
            "text/plain": [
              "<Figure size 432x288 with 1 Axes>"
            ]
          },
          "metadata": {
            "tags": []
          }
        }
      ]
    },
    {
      "cell_type": "markdown",
      "metadata": {
        "id": "jvOpo-ltDW2h",
        "colab_type": "text"
      },
      "source": [
        "When we take just 5 countries we cover more than 80%\n",
        " devices.\n",
        "\n"
      ]
    },
    {
      "cell_type": "code",
      "metadata": {
        "id": "ZxNEgTxTBffI",
        "colab_type": "code",
        "outputId": "ff4e4ab4-1f61-4ff5-b77b-e98e213154de",
        "colab": {
          "base_uri": "https://localhost:8080/",
          "height": 241
        }
      },
      "source": [
        "df_task1.country.value_counts(normalize=True)"
      ],
      "execution_count": 9,
      "outputs": [
        {
          "output_type": "execute_result",
          "data": {
            "text/plain": [
              "US    0.624929\n",
              "GB    0.082541\n",
              "CA    0.066218\n",
              "AU    0.033881\n",
              "RU    0.024449\n",
              "        ...   \n",
              "MR    0.000024\n",
              "AI    0.000024\n",
              "MN    0.000024\n",
              "EU    0.000024\n",
              "SC    0.000024\n",
              "Name: country, Length: 161, dtype: float64"
            ]
          },
          "metadata": {
            "tags": []
          },
          "execution_count": 9
        }
      ]
    },
    {
      "cell_type": "code",
      "metadata": {
        "id": "eGy6knXdB4_H",
        "colab_type": "code",
        "colab": {}
      },
      "source": [
        "df_task1_f = df_task1[df_task1[\"country\"].isin([\"US\", \"GB\", \"CA\", \"AU\", \"RU\"])]"
      ],
      "execution_count": 0,
      "outputs": []
    },
    {
      "cell_type": "code",
      "metadata": {
        "id": "AT0lyTKEJtnq",
        "colab_type": "code",
        "outputId": "8bd340b4-ab2f-40f0-fc36-a95897ac3367",
        "colab": {
          "base_uri": "https://localhost:8080/",
          "height": 168
        }
      },
      "source": [
        "for country in df_task1_f.country.unique():\n",
        "  print (\"Mode of \" + str(country) + \" is \" + str(st.mode(df_task1_f[df_task1.country==country].total_revenue)))"
      ],
      "execution_count": 11,
      "outputs": [
        {
          "output_type": "stream",
          "text": [
            "Mode of US is 0.0\n",
            "Mode of AU is 0.0\n",
            "Mode of RU is 0.0\n",
            "Mode of GB is 0.0\n",
            "Mode of CA is 0.0\n"
          ],
          "name": "stdout"
        },
        {
          "output_type": "stream",
          "text": [
            "/usr/local/lib/python3.6/dist-packages/ipykernel_launcher.py:2: UserWarning: Boolean Series key will be reindexed to match DataFrame index.\n",
            "  \n"
          ],
          "name": "stderr"
        }
      ]
    },
    {
      "cell_type": "markdown",
      "metadata": {
        "id": "u3nIslaYQ7QJ",
        "colab_type": "text"
      },
      "source": [
        "We neet to be carreful when looking at stats - mode for PW (Palau?) was 52.55. Impressive?\n",
        "Not really when you check that there was just one device (but with quite high revenue)\n",
        "It's one of the reasons I decided to work on filtered list of countries."
      ]
    },
    {
      "cell_type": "code",
      "metadata": {
        "id": "yVyKgSlxLfTB",
        "colab_type": "code",
        "outputId": "c4948663-e594-49c0-b7ef-382f96c4d494",
        "colab": {
          "base_uri": "https://localhost:8080/",
          "height": 80
        }
      },
      "source": [
        "df_task1[df_task1.country=='PW'].head()"
      ],
      "execution_count": 12,
      "outputs": [
        {
          "output_type": "execute_result",
          "data": {
            "text/html": [
              "<div>\n",
              "<style scoped>\n",
              "    .dataframe tbody tr th:only-of-type {\n",
              "        vertical-align: middle;\n",
              "    }\n",
              "\n",
              "    .dataframe tbody tr th {\n",
              "        vertical-align: top;\n",
              "    }\n",
              "\n",
              "    .dataframe thead th {\n",
              "        text-align: right;\n",
              "    }\n",
              "</style>\n",
              "<table border=\"1\" class=\"dataframe\">\n",
              "  <thead>\n",
              "    <tr style=\"text-align: right;\">\n",
              "      <th></th>\n",
              "      <th>device_id</th>\n",
              "      <th>device_install_date</th>\n",
              "      <th>country</th>\n",
              "      <th>total_revenue</th>\n",
              "      <th>month</th>\n",
              "    </tr>\n",
              "  </thead>\n",
              "  <tbody>\n",
              "    <tr>\n",
              "      <th>7383</th>\n",
              "      <td>A1C48062-29C2-4A16-8B08-C38220DEF283</td>\n",
              "      <td>2019-09-22</td>\n",
              "      <td>PW</td>\n",
              "      <td>52.55</td>\n",
              "      <td>9</td>\n",
              "    </tr>\n",
              "  </tbody>\n",
              "</table>\n",
              "</div>"
            ],
            "text/plain": [
              "                                 device_id  ... month\n",
              "7383  A1C48062-29C2-4A16-8B08-C38220DEF283  ...     9\n",
              "\n",
              "[1 rows x 5 columns]"
            ]
          },
          "metadata": {
            "tags": []
          },
          "execution_count": 12
        }
      ]
    },
    {
      "cell_type": "markdown",
      "metadata": {
        "id": "-uLmQ5KDRFLi",
        "colab_type": "text"
      },
      "source": [
        "First and most obvious  - in this dataset devices mostly come from US. Those devices also bring highest revenue (looking at average) but has the highest standard deviaton - it simply shows largest revenue range (you can see that also when looking at maximum values for countries). When we look at mode for those 5 countries it's 0 as the most common value is 0."
      ]
    },
    {
      "cell_type": "code",
      "metadata": {
        "id": "93aTtrQu_qxY",
        "colab_type": "code",
        "outputId": "36ea5e2a-79a1-4afd-8118-c12b9b377d84",
        "colab": {
          "base_uri": "https://localhost:8080/",
          "height": 260
        }
      },
      "source": [
        "print (df_task1_f.groupby('country').describe().unstack(1))"
      ],
      "execution_count": 13,
      "outputs": [
        {
          "output_type": "stream",
          "text": [
            "                      country\n",
            "total_revenue  count  AU          1426.0\n",
            "                      CA          2787.0\n",
            "                      GB          3474.0\n",
            "                      RU          1029.0\n",
            "                      US         26302.0\n",
            "                                  ...   \n",
            "month          max    AU            12.0\n",
            "                      CA            12.0\n",
            "                      GB            12.0\n",
            "                      RU            12.0\n",
            "                      US            12.0\n",
            "Length: 80, dtype: float64\n"
          ],
          "name": "stdout"
        }
      ]
    },
    {
      "cell_type": "markdown",
      "metadata": {
        "id": "6pm4LyywSu8W",
        "colab_type": "text"
      },
      "source": [
        "**What do we get from this simply descriptive statistics?** \n",
        "\n",
        "We know our main markets and how revenue is distributed.<br>\n",
        "\n",
        "**What could we do else?**\n",
        "Do timeseries analysis - check if there are trends in time/ seasonality. <br>\n",
        "If we have number of transactions in time we could check what brings income - many small purchases or less but bigger? <br>\n",
        "If have dates of transaction if people install just before purchase or install and do shopping later? <br>\n",
        "What is churn rate? How quickly people de-install? I'm just wondering if there is a group of people who install before bigger purchase and de-install immediately after. If so, how to keep them? <br>\n",
        "Check how much we had to invest on the market to achive that revenue. <br>\n"
      ]
    },
    {
      "cell_type": "markdown",
      "metadata": {
        "id": "omWd2SiRXUj0",
        "colab_type": "text"
      },
      "source": [
        "**Part #3 - Revenue calculation exercise (Excel)<br>**\n",
        "A) our average year 1 revenue per user for , all countries<br>\n",
        "B) our average year 1 revenue per user for , top 3 countries <br>\n",
        "C) our average revenue per user over time, indicating whether this has changed over time, all countries <br>\n",
        "D) our average revenue per user over time, indicating whether this has changed over time, top 3 countries\n"
      ]
    },
    {
      "cell_type": "code",
      "metadata": {
        "id": "YyNzjJ2cXiTP",
        "colab_type": "code",
        "outputId": "3c6a3115-fc04-4790-d4b1-dde3e7d4c4d9",
        "colab": {
          "base_uri": "https://localhost:8080/",
          "height": 226
        }
      },
      "source": [
        "df_task2 = pd.read_csv('task2.csv', parse_dates=['installedon', 'ordersfrom'])\n",
        "df_task2.head()"
      ],
      "execution_count": 14,
      "outputs": [
        {
          "output_type": "execute_result",
          "data": {
            "text/html": [
              "<div>\n",
              "<style scoped>\n",
              "    .dataframe tbody tr th:only-of-type {\n",
              "        vertical-align: middle;\n",
              "    }\n",
              "\n",
              "    .dataframe tbody tr th {\n",
              "        vertical-align: top;\n",
              "    }\n",
              "\n",
              "    .dataframe thead th {\n",
              "        text-align: right;\n",
              "    }\n",
              "</style>\n",
              "<table border=\"1\" class=\"dataframe\">\n",
              "  <thead>\n",
              "    <tr style=\"text-align: right;\">\n",
              "      <th></th>\n",
              "      <th>installedon</th>\n",
              "      <th>installcount</th>\n",
              "      <th>uninstallcount</th>\n",
              "      <th>ordersfrom</th>\n",
              "      <th>totalusersconverted</th>\n",
              "      <th>ordersfromweek</th>\n",
              "      <th>avgperinst</th>\n",
              "      <th>thisweekusersconverted</th>\n",
              "      <th>usrperc</th>\n",
              "      <th>totalrevenue</th>\n",
              "    </tr>\n",
              "  </thead>\n",
              "  <tbody>\n",
              "    <tr>\n",
              "      <th>0</th>\n",
              "      <td>2019-02-22</td>\n",
              "      <td>245</td>\n",
              "      <td>72</td>\n",
              "      <td>2019-02-18</td>\n",
              "      <td>32</td>\n",
              "      <td>1</td>\n",
              "      <td>0.0809</td>\n",
              "      <td>9</td>\n",
              "      <td>0.036735</td>\n",
              "      <td>234.05</td>\n",
              "    </tr>\n",
              "    <tr>\n",
              "      <th>1</th>\n",
              "      <td>2019-02-22</td>\n",
              "      <td>245</td>\n",
              "      <td>72</td>\n",
              "      <td>2019-02-25</td>\n",
              "      <td>32</td>\n",
              "      <td>2</td>\n",
              "      <td>0.0199</td>\n",
              "      <td>3</td>\n",
              "      <td>0.012245</td>\n",
              "      <td>234.05</td>\n",
              "    </tr>\n",
              "    <tr>\n",
              "      <th>2</th>\n",
              "      <td>2019-02-22</td>\n",
              "      <td>245</td>\n",
              "      <td>72</td>\n",
              "      <td>2019-03-04</td>\n",
              "      <td>32</td>\n",
              "      <td>3</td>\n",
              "      <td>0.0514</td>\n",
              "      <td>4</td>\n",
              "      <td>0.016327</td>\n",
              "      <td>234.05</td>\n",
              "    </tr>\n",
              "    <tr>\n",
              "      <th>3</th>\n",
              "      <td>2019-02-22</td>\n",
              "      <td>245</td>\n",
              "      <td>72</td>\n",
              "      <td>2019-03-11</td>\n",
              "      <td>32</td>\n",
              "      <td>4</td>\n",
              "      <td>0.0080</td>\n",
              "      <td>3</td>\n",
              "      <td>0.012245</td>\n",
              "      <td>234.05</td>\n",
              "    </tr>\n",
              "    <tr>\n",
              "      <th>4</th>\n",
              "      <td>2019-02-22</td>\n",
              "      <td>245</td>\n",
              "      <td>72</td>\n",
              "      <td>2019-03-18</td>\n",
              "      <td>32</td>\n",
              "      <td>5</td>\n",
              "      <td>0.0284</td>\n",
              "      <td>2</td>\n",
              "      <td>0.008163</td>\n",
              "      <td>234.05</td>\n",
              "    </tr>\n",
              "  </tbody>\n",
              "</table>\n",
              "</div>"
            ],
            "text/plain": [
              "  installedon  installcount  ...   usrperc totalrevenue\n",
              "0  2019-02-22           245  ...  0.036735       234.05\n",
              "1  2019-02-22           245  ...  0.012245       234.05\n",
              "2  2019-02-22           245  ...  0.016327       234.05\n",
              "3  2019-02-22           245  ...  0.012245       234.05\n",
              "4  2019-02-22           245  ...  0.008163       234.05\n",
              "\n",
              "[5 rows x 10 columns]"
            ]
          },
          "metadata": {
            "tags": []
          },
          "execution_count": 14
        }
      ]
    },
    {
      "cell_type": "markdown",
      "metadata": {
        "id": "84TbrHooZYUN",
        "colab_type": "text"
      },
      "source": [
        "ARPU <br>\n",
        "total revenue/ total number of users"
      ]
    },
    {
      "cell_type": "code",
      "metadata": {
        "id": "x4RsVWHCY5rv",
        "colab_type": "code",
        "outputId": "b8470d2b-d8e9-4b3f-dc80-5b2f6d983dd2",
        "colab": {
          "base_uri": "https://localhost:8080/",
          "height": 36
        }
      },
      "source": [
        "df_task2.totalrevenue.sum()/ df_task2.installcount.sum()"
      ],
      "execution_count": 15,
      "outputs": [
        {
          "output_type": "execute_result",
          "data": {
            "text/plain": [
              "0.8907603537575011"
            ]
          },
          "metadata": {
            "tags": []
          },
          "execution_count": 15
        }
      ]
    },
    {
      "cell_type": "code",
      "metadata": {
        "id": "dazFrh_sAqF0",
        "colab_type": "code",
        "colab": {
          "base_uri": "https://localhost:8080/",
          "height": 36
        },
        "outputId": "9f7c922d-bfb8-4fac-8a61-87e3e26acdc3"
      },
      "source": [
        "df_task2.totalrevenue.sum()"
      ],
      "execution_count": 16,
      "outputs": [
        {
          "output_type": "execute_result",
          "data": {
            "text/plain": [
              "1576568.33"
            ]
          },
          "metadata": {
            "tags": []
          },
          "execution_count": 16
        }
      ]
    },
    {
      "cell_type": "code",
      "metadata": {
        "id": "xhu4s5cnNhg_",
        "colab_type": "code",
        "colab": {
          "base_uri": "https://localhost:8080/",
          "height": 174
        },
        "outputId": "83c18a52-ec80-4a49-9dbe-579f329e743b"
      },
      "source": [
        "drive.mount(\"/content/drive\")"
      ],
      "execution_count": 18,
      "outputs": [
        {
          "output_type": "error",
          "ename": "NameError",
          "evalue": "ignored",
          "traceback": [
            "\u001b[0;31m---------------------------------------------------------------------------\u001b[0m",
            "\u001b[0;31mNameError\u001b[0m                                 Traceback (most recent call last)",
            "\u001b[0;32m<ipython-input-18-ef5b1e3843da>\u001b[0m in \u001b[0;36m<module>\u001b[0;34m()\u001b[0m\n\u001b[0;32m----> 1\u001b[0;31m \u001b[0mdrive\u001b[0m\u001b[0;34m.\u001b[0m\u001b[0mmount\u001b[0m\u001b[0;34m(\u001b[0m\u001b[0;34m\"/content/drive\"\u001b[0m\u001b[0;34m)\u001b[0m\u001b[0;34m\u001b[0m\u001b[0;34m\u001b[0m\u001b[0m\n\u001b[0m",
            "\u001b[0;31mNameError\u001b[0m: name 'drive' is not defined"
          ]
        }
      ]
    },
    {
      "cell_type": "code",
      "metadata": {
        "id": "GIRzhIj4M15U",
        "colab_type": "code",
        "colab": {
          "base_uri": "https://localhost:8080/",
          "height": 54
        },
        "outputId": "b382896c-403a-4ad8-8838-30f0788d121a"
      },
      "source": [
        "!git add CF/CF_C.ipynb"
      ],
      "execution_count": 17,
      "outputs": [
        {
          "output_type": "stream",
          "text": [
            "fatal: not a git repository (or any parent up to mount point /content)\n",
            "Stopping at filesystem boundary (GIT_DISCOVERY_ACROSS_FILESYSTEM not set).\n"
          ],
          "name": "stdout"
        }
      ]
    }
  ]
}